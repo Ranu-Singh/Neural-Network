{
  "nbformat": 4,
  "nbformat_minor": 0,
  "metadata": {
    "colab": {
      "name": "Neural_Network.ipynb",
      "provenance": [],
      "collapsed_sections": [],
      "authorship_tag": "ABX9TyOWhmippzU4tAVddofYv/eN",
      "include_colab_link": true
    },
    "kernelspec": {
      "name": "python3",
      "display_name": "Python 3"
    },
    "language_info": {
      "name": "python"
    }
  },
  "cells": [
    {
      "cell_type": "markdown",
      "metadata": {
        "id": "view-in-github",
        "colab_type": "text"
      },
      "source": [
        "<a href=\"https://colab.research.google.com/github/Ranu-Singh/Neural-Network/blob/main/Neural_Network.ipynb\" target=\"_parent\"><img src=\"https://colab.research.google.com/assets/colab-badge.svg\" alt=\"Open In Colab\"/></a>"
      ]
    },
    {
      "cell_type": "code",
      "execution_count": 1,
      "metadata": {
        "id": "N1L63yDH5CD7"
      },
      "outputs": [],
      "source": [
        "import tensorflow as tf\n",
        "import numpy as np\n",
        "import matplotlib.pyplot as plt\n",
        "\n",
        "from tensorflow.keras import layers , models\n",
        "from tensorflow.keras.models import Sequential\n",
        "from keras.datasets import cifar10\n",
        "from keras.layers import Flatten,BatchNormalization\n",
        "from keras.layers.convolutional import Conv2D ,MaxPooling2D\n",
        "from keras.utils import np_utils"
      ]
    },
    {
      "cell_type": "code",
      "source": [
        "(train_images, train_labels), (test_images, test_labels)= cifar10.load_data()"
      ],
      "metadata": {
        "colab": {
          "base_uri": "https://localhost:8080/"
        },
        "id": "ayMNOeD_6wJi",
        "outputId": "4edd5606-1050-495c-8ac9-79209c6f5d5d"
      },
      "execution_count": 2,
      "outputs": [
        {
          "output_type": "stream",
          "name": "stdout",
          "text": [
            "Downloading data from https://www.cs.toronto.edu/~kriz/cifar-10-python.tar.gz\n",
            "170500096/170498071 [==============================] - 6s 0us/step\n",
            "170508288/170498071 [==============================] - 6s 0us/step\n"
          ]
        }
      ]
    },
    {
      "cell_type": "code",
      "source": [
        "classes_names= ['airplan','automobile', 'bird', 'cat', 'deer','dog', 'frog', 'horse', 'ship', 'truck']"
      ],
      "metadata": {
        "id": "eo2LWMfN7LGr"
      },
      "execution_count": 3,
      "outputs": []
    },
    {
      "cell_type": "code",
      "source": [
        "test_images.shape"
      ],
      "metadata": {
        "colab": {
          "base_uri": "https://localhost:8080/"
        },
        "id": "faxRfayH7iCd",
        "outputId": "007ee203-7cf2-4058-d6ef-904c445ea034"
      },
      "execution_count": 4,
      "outputs": [
        {
          "output_type": "execute_result",
          "data": {
            "text/plain": [
              "(10000, 32, 32, 3)"
            ]
          },
          "metadata": {},
          "execution_count": 4
        }
      ]
    },
    {
      "cell_type": "code",
      "source": [
        "train_images.shape"
      ],
      "metadata": {
        "colab": {
          "base_uri": "https://localhost:8080/"
        },
        "id": "mFjx6rWR745x",
        "outputId": "60c1eca1-6828-4fb0-b503-0c2ddf3ddc5a"
      },
      "execution_count": 5,
      "outputs": [
        {
          "output_type": "execute_result",
          "data": {
            "text/plain": [
              "(50000, 32, 32, 3)"
            ]
          },
          "metadata": {},
          "execution_count": 5
        }
      ]
    },
    {
      "cell_type": "code",
      "source": [
        "train_images =train_images/255.0\n",
        "test_images= test_images/255.0"
      ],
      "metadata": {
        "id": "stu_tvewEnkk"
      },
      "execution_count": 6,
      "outputs": []
    },
    {
      "cell_type": "code",
      "source": [
        "NetA = models.Sequential([\n",
        "        layers.Flatten(input_shape=(32,32,3)),\n",
        "            \n",
        "    ])\n",
        "\n",
        "NetA.compile(optimizer='SGD',\n",
        "              loss='sparse_categorical_crossentropy',\n",
        "              metrics=['accuracy'])\n",
        "\n",
        "a=NetA.fit(train_images, train_labels, epochs=50)"
      ],
      "metadata": {
        "colab": {
          "base_uri": "https://localhost:8080/"
        },
        "id": "JyUN1YIh78Xw",
        "outputId": "725778f0-3ae9-485c-cfd6-9d2e1097cbef"
      },
      "execution_count": 7,
      "outputs": [
        {
          "output_type": "stream",
          "name": "stdout",
          "text": [
            "Epoch 1/50\n",
            "1563/1563 [==============================] - 7s 4ms/step - loss: 8.2413 - accuracy: 0.0080\n",
            "Epoch 2/50\n",
            "1563/1563 [==============================] - 6s 4ms/step - loss: 8.2412 - accuracy: 0.0080\n",
            "Epoch 3/50\n",
            "1563/1563 [==============================] - 4s 3ms/step - loss: 8.2413 - accuracy: 0.0080\n",
            "Epoch 4/50\n",
            "1563/1563 [==============================] - 4s 2ms/step - loss: 8.2413 - accuracy: 0.0080\n",
            "Epoch 5/50\n",
            "1563/1563 [==============================] - 3s 2ms/step - loss: 8.2413 - accuracy: 0.0080\n",
            "Epoch 6/50\n",
            "1563/1563 [==============================] - 4s 2ms/step - loss: 8.2413 - accuracy: 0.0080\n",
            "Epoch 7/50\n",
            "1563/1563 [==============================] - 3s 2ms/step - loss: 8.2413 - accuracy: 0.0080\n",
            "Epoch 8/50\n",
            "1563/1563 [==============================] - 4s 2ms/step - loss: 8.2413 - accuracy: 0.0080\n",
            "Epoch 9/50\n",
            "1563/1563 [==============================] - 3s 2ms/step - loss: 8.2413 - accuracy: 0.0080\n",
            "Epoch 10/50\n",
            "1563/1563 [==============================] - 4s 2ms/step - loss: 8.2413 - accuracy: 0.0080\n",
            "Epoch 11/50\n",
            "1563/1563 [==============================] - 4s 2ms/step - loss: 8.2413 - accuracy: 0.0080\n",
            "Epoch 12/50\n",
            "1563/1563 [==============================] - 4s 2ms/step - loss: 8.2413 - accuracy: 0.0080\n",
            "Epoch 13/50\n",
            "1563/1563 [==============================] - 4s 2ms/step - loss: 8.2413 - accuracy: 0.0080\n",
            "Epoch 14/50\n",
            "1563/1563 [==============================] - 3s 2ms/step - loss: 8.2413 - accuracy: 0.0080\n",
            "Epoch 15/50\n",
            "1563/1563 [==============================] - 3s 2ms/step - loss: 8.2413 - accuracy: 0.0080\n",
            "Epoch 16/50\n",
            "1563/1563 [==============================] - 3s 2ms/step - loss: 8.2413 - accuracy: 0.0080\n",
            "Epoch 17/50\n",
            "1563/1563 [==============================] - 3s 2ms/step - loss: 8.2413 - accuracy: 0.0080\n",
            "Epoch 18/50\n",
            "1563/1563 [==============================] - 3s 2ms/step - loss: 8.2413 - accuracy: 0.0080\n",
            "Epoch 19/50\n",
            "1563/1563 [==============================] - 3s 2ms/step - loss: 8.2413 - accuracy: 0.0080\n",
            "Epoch 20/50\n",
            "1563/1563 [==============================] - 3s 2ms/step - loss: 8.2413 - accuracy: 0.0080\n",
            "Epoch 21/50\n",
            "1563/1563 [==============================] - 4s 2ms/step - loss: 8.2413 - accuracy: 0.0080\n",
            "Epoch 22/50\n",
            "1563/1563 [==============================] - 3s 2ms/step - loss: 8.2413 - accuracy: 0.0080\n",
            "Epoch 23/50\n",
            "1563/1563 [==============================] - 3s 2ms/step - loss: 8.2413 - accuracy: 0.0080\n",
            "Epoch 24/50\n",
            "1563/1563 [==============================] - 5s 3ms/step - loss: 8.2412 - accuracy: 0.0080\n",
            "Epoch 25/50\n",
            "1563/1563 [==============================] - 4s 2ms/step - loss: 8.2413 - accuracy: 0.0080\n",
            "Epoch 26/50\n",
            "1563/1563 [==============================] - 3s 2ms/step - loss: 8.2413 - accuracy: 0.0080\n",
            "Epoch 27/50\n",
            "1563/1563 [==============================] - 4s 2ms/step - loss: 8.2413 - accuracy: 0.0080\n",
            "Epoch 28/50\n",
            "1563/1563 [==============================] - 3s 2ms/step - loss: 8.2413 - accuracy: 0.0080\n",
            "Epoch 29/50\n",
            "1563/1563 [==============================] - 3s 2ms/step - loss: 8.2413 - accuracy: 0.0080\n",
            "Epoch 30/50\n",
            "1563/1563 [==============================] - 4s 2ms/step - loss: 8.2413 - accuracy: 0.0080\n",
            "Epoch 31/50\n",
            "1563/1563 [==============================] - 4s 2ms/step - loss: 8.2413 - accuracy: 0.0080\n",
            "Epoch 32/50\n",
            "1563/1563 [==============================] - 4s 2ms/step - loss: 8.2413 - accuracy: 0.0080\n",
            "Epoch 33/50\n",
            "1563/1563 [==============================] - 4s 2ms/step - loss: 8.2413 - accuracy: 0.0080\n",
            "Epoch 34/50\n",
            "1563/1563 [==============================] - 4s 2ms/step - loss: 8.2413 - accuracy: 0.0080\n",
            "Epoch 35/50\n",
            "1563/1563 [==============================] - 4s 2ms/step - loss: 8.2413 - accuracy: 0.0080\n",
            "Epoch 36/50\n",
            "1563/1563 [==============================] - 4s 2ms/step - loss: 8.2413 - accuracy: 0.0080\n",
            "Epoch 37/50\n",
            "1563/1563 [==============================] - 4s 2ms/step - loss: 8.2413 - accuracy: 0.0080\n",
            "Epoch 38/50\n",
            "1563/1563 [==============================] - 3s 2ms/step - loss: 8.2413 - accuracy: 0.0080\n",
            "Epoch 39/50\n",
            "1563/1563 [==============================] - 3s 2ms/step - loss: 8.2413 - accuracy: 0.0080\n",
            "Epoch 40/50\n",
            "1563/1563 [==============================] - 4s 3ms/step - loss: 8.2413 - accuracy: 0.0080\n",
            "Epoch 41/50\n",
            "1563/1563 [==============================] - 5s 3ms/step - loss: 8.2413 - accuracy: 0.0080\n",
            "Epoch 42/50\n",
            "1563/1563 [==============================] - 4s 2ms/step - loss: 8.2413 - accuracy: 0.0080\n",
            "Epoch 43/50\n",
            "1563/1563 [==============================] - 4s 2ms/step - loss: 8.2413 - accuracy: 0.0080\n",
            "Epoch 44/50\n",
            "1563/1563 [==============================] - 4s 2ms/step - loss: 8.2413 - accuracy: 0.0080\n",
            "Epoch 45/50\n",
            "1563/1563 [==============================] - 4s 2ms/step - loss: 8.2413 - accuracy: 0.0080\n",
            "Epoch 46/50\n",
            "1563/1563 [==============================] - 4s 2ms/step - loss: 8.2413 - accuracy: 0.0080\n",
            "Epoch 47/50\n",
            "1563/1563 [==============================] - 4s 2ms/step - loss: 8.2413 - accuracy: 0.0080\n",
            "Epoch 48/50\n",
            "1563/1563 [==============================] - 4s 2ms/step - loss: 8.2413 - accuracy: 0.0080\n",
            "Epoch 49/50\n",
            "1563/1563 [==============================] - 4s 2ms/step - loss: 8.2413 - accuracy: 0.0080\n",
            "Epoch 50/50\n",
            "1563/1563 [==============================] - 4s 2ms/step - loss: 8.2413 - accuracy: 0.0080\n"
          ]
        }
      ]
    },
    {
      "cell_type": "code",
      "source": [
        "NetB = models.Sequential([\n",
        "      layers.Flatten(input_shape=(32,32,3)),\n",
        "      layers.Dense(300, activation='relu'),\n",
        "      layers.Dense(10,activation='softmax')\n",
        "])\n",
        "\n",
        "NetB.compile(optimizer='SGD',\n",
        "              loss='sparse_categorical_crossentropy',\n",
        "              metrics=['accuracy'])\n",
        "\n",
        "b=NetB.fit(train_images, train_labels, epochs=50)"
      ],
      "metadata": {
        "colab": {
          "base_uri": "https://localhost:8080/"
        },
        "id": "Kse7k_zcFiO7",
        "outputId": "7659bf2b-e6b4-468b-bcdd-519b1ac75edd"
      },
      "execution_count": 8,
      "outputs": [
        {
          "output_type": "stream",
          "name": "stdout",
          "text": [
            "Epoch 1/50\n",
            "1563/1563 [==============================] - 9s 6ms/step - loss: 1.8672 - accuracy: 0.3312\n",
            "Epoch 2/50\n",
            "1563/1563 [==============================] - 9s 6ms/step - loss: 1.6959 - accuracy: 0.4034\n",
            "Epoch 3/50\n",
            "1563/1563 [==============================] - 9s 6ms/step - loss: 1.6211 - accuracy: 0.4295\n",
            "Epoch 4/50\n",
            "1563/1563 [==============================] - 9s 6ms/step - loss: 1.5681 - accuracy: 0.4483\n",
            "Epoch 5/50\n",
            "1563/1563 [==============================] - 9s 6ms/step - loss: 1.5288 - accuracy: 0.4634\n",
            "Epoch 6/50\n",
            "1563/1563 [==============================] - 9s 6ms/step - loss: 1.4941 - accuracy: 0.4732\n",
            "Epoch 7/50\n",
            "1563/1563 [==============================] - 9s 6ms/step - loss: 1.4669 - accuracy: 0.4842\n",
            "Epoch 8/50\n",
            "1563/1563 [==============================] - 9s 6ms/step - loss: 1.4398 - accuracy: 0.4959\n",
            "Epoch 9/50\n",
            "1563/1563 [==============================] - 9s 6ms/step - loss: 1.4166 - accuracy: 0.5035\n",
            "Epoch 10/50\n",
            "1563/1563 [==============================] - 9s 5ms/step - loss: 1.3952 - accuracy: 0.5101\n",
            "Epoch 11/50\n",
            "1563/1563 [==============================] - 9s 6ms/step - loss: 1.3749 - accuracy: 0.5174\n",
            "Epoch 12/50\n",
            "1563/1563 [==============================] - 9s 6ms/step - loss: 1.3555 - accuracy: 0.5246\n",
            "Epoch 13/50\n",
            "1563/1563 [==============================] - 9s 6ms/step - loss: 1.3383 - accuracy: 0.5304\n",
            "Epoch 14/50\n",
            "1563/1563 [==============================] - 9s 6ms/step - loss: 1.3227 - accuracy: 0.5343\n",
            "Epoch 15/50\n",
            "1563/1563 [==============================] - 9s 6ms/step - loss: 1.3050 - accuracy: 0.5436\n",
            "Epoch 16/50\n",
            "1563/1563 [==============================] - 9s 6ms/step - loss: 1.2911 - accuracy: 0.5500\n",
            "Epoch 17/50\n",
            "1563/1563 [==============================] - 9s 6ms/step - loss: 1.2753 - accuracy: 0.5552\n",
            "Epoch 18/50\n",
            "1563/1563 [==============================] - 9s 6ms/step - loss: 1.2627 - accuracy: 0.5562\n",
            "Epoch 19/50\n",
            "1563/1563 [==============================] - 9s 6ms/step - loss: 1.2514 - accuracy: 0.5612\n",
            "Epoch 20/50\n",
            "1563/1563 [==============================] - 9s 5ms/step - loss: 1.2374 - accuracy: 0.5674\n",
            "Epoch 21/50\n",
            "1563/1563 [==============================] - 8s 5ms/step - loss: 1.2227 - accuracy: 0.5700\n",
            "Epoch 22/50\n",
            "1563/1563 [==============================] - 9s 6ms/step - loss: 1.2117 - accuracy: 0.5743\n",
            "Epoch 23/50\n",
            "1563/1563 [==============================] - 9s 6ms/step - loss: 1.1987 - accuracy: 0.5805\n",
            "Epoch 24/50\n",
            "1563/1563 [==============================] - 9s 6ms/step - loss: 1.1870 - accuracy: 0.5841\n",
            "Epoch 25/50\n",
            "1563/1563 [==============================] - 9s 6ms/step - loss: 1.1774 - accuracy: 0.5880\n",
            "Epoch 26/50\n",
            "1563/1563 [==============================] - 9s 6ms/step - loss: 1.1664 - accuracy: 0.5936\n",
            "Epoch 27/50\n",
            "1563/1563 [==============================] - 9s 6ms/step - loss: 1.1536 - accuracy: 0.5966\n",
            "Epoch 28/50\n",
            "1563/1563 [==============================] - 9s 6ms/step - loss: 1.1456 - accuracy: 0.6001\n",
            "Epoch 29/50\n",
            "1563/1563 [==============================] - 9s 6ms/step - loss: 1.1334 - accuracy: 0.6047\n",
            "Epoch 30/50\n",
            "1563/1563 [==============================] - 9s 6ms/step - loss: 1.1264 - accuracy: 0.6050\n",
            "Epoch 31/50\n",
            "1563/1563 [==============================] - 9s 6ms/step - loss: 1.1140 - accuracy: 0.6102\n",
            "Epoch 32/50\n",
            "1563/1563 [==============================] - 9s 6ms/step - loss: 1.1031 - accuracy: 0.6157\n",
            "Epoch 33/50\n",
            "1563/1563 [==============================] - 9s 6ms/step - loss: 1.0933 - accuracy: 0.6200\n",
            "Epoch 34/50\n",
            "1563/1563 [==============================] - 9s 6ms/step - loss: 1.0866 - accuracy: 0.6210\n",
            "Epoch 35/50\n",
            "1563/1563 [==============================] - 9s 6ms/step - loss: 1.0739 - accuracy: 0.6256\n",
            "Epoch 36/50\n",
            "1563/1563 [==============================] - 9s 6ms/step - loss: 1.0703 - accuracy: 0.6248\n",
            "Epoch 37/50\n",
            "1563/1563 [==============================] - 9s 6ms/step - loss: 1.0580 - accuracy: 0.6318\n",
            "Epoch 38/50\n",
            "1563/1563 [==============================] - 9s 6ms/step - loss: 1.0492 - accuracy: 0.6330\n",
            "Epoch 39/50\n",
            "1563/1563 [==============================] - 9s 6ms/step - loss: 1.0419 - accuracy: 0.6374\n",
            "Epoch 40/50\n",
            "1563/1563 [==============================] - 9s 6ms/step - loss: 1.0326 - accuracy: 0.6409\n",
            "Epoch 41/50\n",
            "1563/1563 [==============================] - 9s 6ms/step - loss: 1.0206 - accuracy: 0.6440\n",
            "Epoch 42/50\n",
            "1563/1563 [==============================] - 9s 6ms/step - loss: 1.0158 - accuracy: 0.6465\n",
            "Epoch 43/50\n",
            "1563/1563 [==============================] - 9s 6ms/step - loss: 1.0065 - accuracy: 0.6501\n",
            "Epoch 44/50\n",
            "1563/1563 [==============================] - 9s 6ms/step - loss: 0.9968 - accuracy: 0.6525\n",
            "Epoch 45/50\n",
            "1563/1563 [==============================] - 9s 6ms/step - loss: 0.9916 - accuracy: 0.6543\n",
            "Epoch 46/50\n",
            "1563/1563 [==============================] - 9s 6ms/step - loss: 0.9811 - accuracy: 0.6593\n",
            "Epoch 47/50\n",
            "1563/1563 [==============================] - 9s 6ms/step - loss: 0.9724 - accuracy: 0.6633\n",
            "Epoch 48/50\n",
            "1563/1563 [==============================] - 9s 6ms/step - loss: 0.9655 - accuracy: 0.6641\n",
            "Epoch 49/50\n",
            "1563/1563 [==============================] - 9s 6ms/step - loss: 0.9590 - accuracy: 0.6662\n",
            "Epoch 50/50\n",
            "1563/1563 [==============================] - 9s 6ms/step - loss: 0.9471 - accuracy: 0.6700\n"
          ]
        }
      ]
    },
    {
      "cell_type": "code",
      "source": [
        "NetC= models.Sequential([\n",
        "      layers.Conv2D(filters=25,kernel_size=(5,5),activation='relu',input_shape=(32,32,3)),\n",
        "      layers.MaxPooling2D((2,2)),\n",
        "      layers.Flatten(),\n",
        "      layers.Dense(10,activation='softmax')\n",
        "      ])\n",
        "NetC.compile(optimizer='SGD',\n",
        "              loss='sparse_categorical_crossentropy',\n",
        "              metrics=['accuracy'])\n",
        "\n",
        "c=NetC.fit(train_images, train_labels, epochs=50)"
      ],
      "metadata": {
        "colab": {
          "base_uri": "https://localhost:8080/"
        },
        "id": "W9Aoop34SOS0",
        "outputId": "90e9e1ef-f6d2-494a-c28a-68d1888a3fab"
      },
      "execution_count": 9,
      "outputs": [
        {
          "output_type": "stream",
          "name": "stdout",
          "text": [
            "Epoch 1/50\n",
            "1563/1563 [==============================] - 29s 18ms/step - loss: 1.8741 - accuracy: 0.3359\n",
            "Epoch 2/50\n",
            "1563/1563 [==============================] - 29s 18ms/step - loss: 1.5577 - accuracy: 0.4546\n",
            "Epoch 3/50\n",
            "1563/1563 [==============================] - 29s 18ms/step - loss: 1.4218 - accuracy: 0.5028\n",
            "Epoch 4/50\n",
            "1563/1563 [==============================] - 29s 19ms/step - loss: 1.3548 - accuracy: 0.5244\n",
            "Epoch 5/50\n",
            "1563/1563 [==============================] - 29s 19ms/step - loss: 1.3093 - accuracy: 0.5428\n",
            "Epoch 6/50\n",
            "1563/1563 [==============================] - 29s 18ms/step - loss: 1.2667 - accuracy: 0.5577\n",
            "Epoch 7/50\n",
            "1563/1563 [==============================] - 29s 18ms/step - loss: 1.2276 - accuracy: 0.5719\n",
            "Epoch 8/50\n",
            "1563/1563 [==============================] - 29s 18ms/step - loss: 1.1868 - accuracy: 0.5888\n",
            "Epoch 9/50\n",
            "1563/1563 [==============================] - 29s 18ms/step - loss: 1.1555 - accuracy: 0.5985\n",
            "Epoch 10/50\n",
            "1563/1563 [==============================] - 29s 18ms/step - loss: 1.1256 - accuracy: 0.6103\n",
            "Epoch 11/50\n",
            "1563/1563 [==============================] - 29s 18ms/step - loss: 1.1021 - accuracy: 0.6196\n",
            "Epoch 12/50\n",
            "1563/1563 [==============================] - 29s 18ms/step - loss: 1.0797 - accuracy: 0.6288\n",
            "Epoch 13/50\n",
            "1563/1563 [==============================] - 29s 18ms/step - loss: 1.0616 - accuracy: 0.6340\n",
            "Epoch 14/50\n",
            "1563/1563 [==============================] - 29s 18ms/step - loss: 1.0454 - accuracy: 0.6377\n",
            "Epoch 15/50\n",
            "1563/1563 [==============================] - 29s 18ms/step - loss: 1.0296 - accuracy: 0.6442\n",
            "Epoch 16/50\n",
            "1563/1563 [==============================] - 29s 18ms/step - loss: 1.0150 - accuracy: 0.6501\n",
            "Epoch 17/50\n",
            "1563/1563 [==============================] - 29s 18ms/step - loss: 1.0027 - accuracy: 0.6531\n",
            "Epoch 18/50\n",
            "1563/1563 [==============================] - 29s 18ms/step - loss: 0.9891 - accuracy: 0.6578\n",
            "Epoch 19/50\n",
            "1563/1563 [==============================] - 29s 18ms/step - loss: 0.9804 - accuracy: 0.6613\n",
            "Epoch 20/50\n",
            "1563/1563 [==============================] - 29s 18ms/step - loss: 0.9702 - accuracy: 0.6655\n",
            "Epoch 21/50\n",
            "1563/1563 [==============================] - 29s 18ms/step - loss: 0.9598 - accuracy: 0.6696\n",
            "Epoch 22/50\n",
            "1563/1563 [==============================] - 29s 18ms/step - loss: 0.9523 - accuracy: 0.6710\n",
            "Epoch 23/50\n",
            "1563/1563 [==============================] - 29s 18ms/step - loss: 0.9427 - accuracy: 0.6761\n",
            "Epoch 24/50\n",
            "1563/1563 [==============================] - 29s 18ms/step - loss: 0.9338 - accuracy: 0.6770\n",
            "Epoch 25/50\n",
            "1563/1563 [==============================] - 29s 19ms/step - loss: 0.9271 - accuracy: 0.6831\n",
            "Epoch 26/50\n",
            "1563/1563 [==============================] - 29s 18ms/step - loss: 0.9188 - accuracy: 0.6836\n",
            "Epoch 27/50\n",
            "1563/1563 [==============================] - 29s 18ms/step - loss: 0.9111 - accuracy: 0.6857\n",
            "Epoch 28/50\n",
            "1563/1563 [==============================] - 29s 18ms/step - loss: 0.9065 - accuracy: 0.6876\n",
            "Epoch 29/50\n",
            "1563/1563 [==============================] - 29s 19ms/step - loss: 0.8983 - accuracy: 0.6936\n",
            "Epoch 30/50\n",
            "1563/1563 [==============================] - 29s 19ms/step - loss: 0.8906 - accuracy: 0.6926\n",
            "Epoch 31/50\n",
            "1563/1563 [==============================] - 29s 19ms/step - loss: 0.8855 - accuracy: 0.6954\n",
            "Epoch 32/50\n",
            "1563/1563 [==============================] - 29s 19ms/step - loss: 0.8795 - accuracy: 0.6987\n",
            "Epoch 33/50\n",
            "1563/1563 [==============================] - 29s 18ms/step - loss: 0.8743 - accuracy: 0.6982\n",
            "Epoch 34/50\n",
            "1563/1563 [==============================] - 29s 18ms/step - loss: 0.8677 - accuracy: 0.7019\n",
            "Epoch 35/50\n",
            "1563/1563 [==============================] - 29s 18ms/step - loss: 0.8637 - accuracy: 0.7046\n",
            "Epoch 36/50\n",
            "1563/1563 [==============================] - 29s 18ms/step - loss: 0.8579 - accuracy: 0.7052\n",
            "Epoch 37/50\n",
            "1563/1563 [==============================] - 29s 18ms/step - loss: 0.8528 - accuracy: 0.7062\n",
            "Epoch 38/50\n",
            "1563/1563 [==============================] - 29s 18ms/step - loss: 0.8476 - accuracy: 0.7087\n",
            "Epoch 39/50\n",
            "1563/1563 [==============================] - 29s 18ms/step - loss: 0.8424 - accuracy: 0.7101\n",
            "Epoch 40/50\n",
            "1563/1563 [==============================] - 29s 18ms/step - loss: 0.8382 - accuracy: 0.7112\n",
            "Epoch 41/50\n",
            "1563/1563 [==============================] - 29s 18ms/step - loss: 0.8324 - accuracy: 0.7129\n",
            "Epoch 42/50\n",
            "1563/1563 [==============================] - 29s 18ms/step - loss: 0.8270 - accuracy: 0.7160\n",
            "Epoch 43/50\n",
            "1563/1563 [==============================] - 29s 18ms/step - loss: 0.8239 - accuracy: 0.7183\n",
            "Epoch 44/50\n",
            "1563/1563 [==============================] - 29s 19ms/step - loss: 0.8194 - accuracy: 0.7169\n",
            "Epoch 45/50\n",
            "1563/1563 [==============================] - 29s 18ms/step - loss: 0.8147 - accuracy: 0.7209\n",
            "Epoch 46/50\n",
            "1563/1563 [==============================] - 29s 18ms/step - loss: 0.8109 - accuracy: 0.7218\n",
            "Epoch 47/50\n",
            "1563/1563 [==============================] - 29s 18ms/step - loss: 0.8074 - accuracy: 0.7228\n",
            "Epoch 48/50\n",
            "1563/1563 [==============================] - 29s 18ms/step - loss: 0.8041 - accuracy: 0.7233\n",
            "Epoch 49/50\n",
            "1563/1563 [==============================] - 29s 18ms/step - loss: 0.7983 - accuracy: 0.7259\n",
            "Epoch 50/50\n",
            "1563/1563 [==============================] - 29s 18ms/step - loss: 0.7960 - accuracy: 0.7263\n"
          ]
        }
      ]
    },
    {
      "cell_type": "code",
      "source": [
        "plt.plot(a.history['accuracy'],label='acc',color='red')\n",
        "plt.plot(a.history['loss'],label='loss',color='green')\n",
        "plt.legend()\n"
      ],
      "metadata": {
        "colab": {
          "base_uri": "https://localhost:8080/",
          "height": 283
        },
        "id": "tbBBlL7QSOHf",
        "outputId": "673e7b72-abe0-4b6e-f7f5-96a6df0685e2"
      },
      "execution_count": 10,
      "outputs": [
        {
          "output_type": "execute_result",
          "data": {
            "text/plain": [
              "<matplotlib.legend.Legend at 0x7f14feee2d10>"
            ]
          },
          "metadata": {},
          "execution_count": 10
        },
        {
          "output_type": "display_data",
          "data": {
            "image/png": "[encoded data removed]",
            "text/plain": [
              "<Figure size 432x288 with 1 Axes>"
            ]
          },
          "metadata": {
            "needs_background": "light"
          }
        }
      ]
    },
    {
      "cell_type": "code",
      "source": [
        "plt.plot(b.history['accuracy'],label='acc',color='red')\n",
        "plt.plot(b.history['loss'],label='loss',color='green')\n",
        "plt.legend()"
      ],
      "metadata": {
        "id": "XT10X-kHb9xs",
        "colab": {
          "base_uri": "https://localhost:8080/",
          "height": 283
        },
        "outputId": "2543780e-b97e-4018-89c2-a79cc8cd415c"
      },
      "execution_count": 11,
      "outputs": [
        {
          "output_type": "execute_result",
          "data": {
            "text/plain": [
              "<matplotlib.legend.Legend at 0x7f14ff50d610>"
            ]
          },
          "metadata": {},
          "execution_count": 11
        },
        {
          "output_type": "display_data",
          "data": {
            "image/png": "[encoded data removed]",
            "text/plain": [
              "<Figure size 432x288 with 1 Axes>"
            ]
          },
          "metadata": {
            "needs_background": "light"
          }
        }
      ]
    },
    {
      "cell_type": "code",
      "source": [
        "plt.plot(c.history['accuracy'],label='acc',color='red')\n",
        "plt.plot(c.history['loss'],label='loss',color='green')\n",
        "plt.legend()"
      ],
      "metadata": {
        "colab": {
          "base_uri": "https://localhost:8080/",
          "height": 283
        },
        "id": "Eji2ZUFXfwfS",
        "outputId": "6236018c-3773-4ab9-930e-dd9b49a43e6c"
      },
      "execution_count": 12,
      "outputs": [
        {
          "output_type": "execute_result",
          "data": {
            "text/plain": [
              "<matplotlib.legend.Legend at 0x7f14fb7f9b90>"
            ]
          },
          "metadata": {},
          "execution_count": 12
        },
        {
          "output_type": "display_data",
          "data": {
            "image/png": "[encoded data removed]",
            "text/plain": [
              "<Figure size 432x288 with 1 Axes>"
            ]
          },
          "metadata": {
            "needs_background": "light"
          }
        }
      ]
    }
  ]
}